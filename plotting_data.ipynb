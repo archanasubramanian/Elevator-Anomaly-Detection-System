{
 "cells": [
  {
   "cell_type": "code",
   "execution_count": null,
   "metadata": {},
   "outputs": [],
   "source": [
    "import pandas as pd\n",
    "import numpy as np\n",
    "import matplotlib.pyplot as plt\n",
    "import plotly.graph_objs as go"
   ]
  },
  {
   "cell_type": "code",
   "execution_count": null,
   "metadata": {},
   "outputs": [],
   "source": [
    "data = pd.read_csv(\"bigdata/EDS_3.csv\")\n",
    "data1 = data[['timestamp','primary_axis']]\n",
    "data2 = data[['timestamp','normalized']]\n",
    "data1 = data1[data1['timestamp'].between('2018-07-09 12:10:00.000','2018-07-09 12:15:00')]\n",
    "data2 = data2[data2['timestamp'].between('2018-07-09 12:10:00','2018-07-09 12:15:00')]\n",
    "data1['timestamp']= pd.to_datetime(data1['timestamp'])\n",
    "data2['timestamp']= pd.to_datetime(data2['timestamp'])"
   ]
  },
  {
   "cell_type": "code",
   "execution_count": null,
   "metadata": {},
   "outputs": [],
   "source": [
    "from scipy.signal import butter,filtfilt\n",
    "def butter_lowpass_filter(data, cutoff, fs, order):\n",
    "    nyq = 0.5 * fs\n",
    "    normal_cutoff = cutoff / nyq\n",
    "    # Get the filter coefficients\n",
    "    b, a = butter(order, normal_cutoff, btype='low', analog=False)\n",
    "    y = filtfilt(b, a, data)\n",
    "    return y\n",
    "\n",
    "fs = 25\n",
    "cutoff = 5\n",
    "order = 2\n",
    "\n",
    "data = data1['primary_axis'].to_numpy()\n",
    "\n",
    "filt = butter_lowpass_filter(data, cutoff, fs, order)\n",
    "data1['filt'] = filt"
   ]
  },
  {
   "cell_type": "code",
   "execution_count": null,
   "metadata": {},
   "outputs": [],
   "source": [
    "#data1['normalized'] = filt\n",
    "fig = go.Figure()\n",
    "\n",
    "fig.add_trace(go.Scatter(\n",
    "            x = data1['timestamp'],\n",
    "            y = data1['primary_axis'],\n",
    "            line =  dict(shape =  'spline' ),\n",
    "            name = 'signal with noise'\n",
    "            ))\n",
    "\n",
    "fig.add_trace(go.Scatter(\n",
    "            x= data1['timestamp'],\n",
    "            y = data1['filt'],\n",
    "            line =  dict(shape =  'spline' ),\n",
    "            name = 'filtered signal'\n",
    "            ))\n",
    "fig.update_layout(\n",
    "    title={\n",
    "        'text': \"Signal with & w/o filter\",\n",
    "        'y':0.9,\n",
    "        'x':0.5,\n",
    "        #'xanchor': 'center',\n",
    "        'yanchor': 'top'},\n",
    "    xaxis_title=\"Timestamp\",\n",
    "    yaxis_title=\"Acceleration\",\n",
    "    height = 500,\n",
    "    width = 550,\n",
    "    font=dict(\n",
    "        family=\"Courier New, monospace\",\n",
    "        size=10,\n",
    "        color=\"#7f7f7f\"\n",
    "    )\n",
    ")\n",
    "fig.show()"
   ]
  },
  {
   "cell_type": "code",
   "execution_count": null,
   "metadata": {},
   "outputs": [],
   "source": [
    "fig = go.Figure()\n",
    "\n",
    "fig.add_trace(go.Scatter(\n",
    "            x = data1['timestamp'],\n",
    "            y = data1['primary_axis'],\n",
    "            line =  dict(shape =  'spline' ),\n",
    "            #name = 'Raw data without normalization'\n",
    "            ))\n",
    "\n",
    "fig.update_layout(\n",
    "    title={\n",
    "        'text': \"Raw data without normalization\",\n",
    "        'y':0.9,\n",
    "        'x':0.5,\n",
    "        #'xanchor': 'center',\n",
    "        'yanchor': 'top'},\n",
    "    xaxis_title=\"Timestamp\",\n",
    "    yaxis_title=\"Acceleration\",\n",
    "    height = 500,\n",
    "    width = 550,\n",
    "    font=dict(\n",
    "        family=\"Courier New, monospace\",\n",
    "        size=10,\n",
    "        color=\"#7f7f7f\"\n",
    "    )\n",
    ")"
   ]
  }
 ],
 "metadata": {
  "kernelspec": {
   "display_name": "Python 3",
   "language": "python",
   "name": "python3"
  },
  "language_info": {
   "codemirror_mode": {
    "name": "ipython",
    "version": 3
   },
   "file_extension": ".py",
   "mimetype": "text/x-python",
   "name": "python",
   "nbconvert_exporter": "python",
   "pygments_lexer": "ipython3",
   "version": "3.7.4"
  }
 },
 "nbformat": 4,
 "nbformat_minor": 2
}
